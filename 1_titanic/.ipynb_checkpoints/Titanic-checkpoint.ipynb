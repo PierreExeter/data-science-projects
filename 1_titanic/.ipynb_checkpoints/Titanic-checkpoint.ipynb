{
 "cells": [
  {
   "cell_type": "markdown",
   "id": "0adb506d-5318-4d4f-b055-08cd89618f51",
   "metadata": {},
   "source": [
    "# Titanic predictions\n",
    "\n",
    "The goal of this project is to predict which passengers of the Titanic survived.\n",
    "\n",
    "## Import libraries"
   ]
  },
  {
   "cell_type": "code",
   "execution_count": 377,
   "id": "c3be7ec1-1ba8-475e-a0e6-4bfd8d0f7bb7",
   "metadata": {
    "scrolled": true
   },
   "outputs": [],
   "source": [
    "import pandas as pd\n",
    "import csv as csv\n",
    "import numpy as np\n",
    "import matplotlib.pyplot as plt\n",
    "\n",
    "from sklearn.linear_model import LogisticRegression\n",
    "from sklearn.svm import SVC\n",
    "from sklearn.ensemble import RandomForestClassifier\n",
    "from sklearn.neighbors import KNeighborsClassifier\n",
    "from sklearn.model_selection import cross_val_score\n",
    "from sklearn.tree import DecisionTreeClassifier\n",
    "from sklearn import metrics\n",
    "from sklearn.naive_bayes import GaussianNB\n",
    "from sklearn.metrics import ConfusionMatrixDisplay"
   ]
  },
  {
   "cell_type": "markdown",
   "id": "48df9715-96fb-4a55-95b7-99e5be5604c2",
   "metadata": {},
   "source": [
    "## Import data"
   ]
  },
  {
   "cell_type": "code",
   "execution_count": 378,
   "id": "01708925-8eac-418a-9232-773c83091304",
   "metadata": {},
   "outputs": [],
   "source": [
    "train_df = pd.read_csv(\"data/train.csv\")\n",
    "test_df  = pd.read_csv(\"data/test.csv\")"
   ]
  },
  {
   "cell_type": "markdown",
   "id": "5058b668-bab1-4a6c-97c1-aa109bc33ba0",
   "metadata": {},
   "source": [
    "Let's look at the data."
   ]
  },
  {
   "cell_type": "code",
   "execution_count": 379,
   "id": "4a19e4cc-3417-490e-bf00-c0935b46fa3e",
   "metadata": {},
   "outputs": [
    {
     "data": {
      "text/html": [
       "<div>\n",
       "<style scoped>\n",
       "    .dataframe tbody tr th:only-of-type {\n",
       "        vertical-align: middle;\n",
       "    }\n",
       "\n",
       "    .dataframe tbody tr th {\n",
       "        vertical-align: top;\n",
       "    }\n",
       "\n",
       "    .dataframe thead th {\n",
       "        text-align: right;\n",
       "    }\n",
       "</style>\n",
       "<table border=\"1\" class=\"dataframe\">\n",
       "  <thead>\n",
       "    <tr style=\"text-align: right;\">\n",
       "      <th></th>\n",
       "      <th>PassengerId</th>\n",
       "      <th>Survived</th>\n",
       "      <th>Pclass</th>\n",
       "      <th>Name</th>\n",
       "      <th>Sex</th>\n",
       "      <th>Age</th>\n",
       "      <th>SibSp</th>\n",
       "      <th>Parch</th>\n",
       "      <th>Ticket</th>\n",
       "      <th>Fare</th>\n",
       "      <th>Cabin</th>\n",
       "      <th>Embarked</th>\n",
       "    </tr>\n",
       "  </thead>\n",
       "  <tbody>\n",
       "    <tr>\n",
       "      <th>0</th>\n",
       "      <td>1</td>\n",
       "      <td>0</td>\n",
       "      <td>3</td>\n",
       "      <td>Braund, Mr. Owen Harris</td>\n",
       "      <td>male</td>\n",
       "      <td>22.0</td>\n",
       "      <td>1</td>\n",
       "      <td>0</td>\n",
       "      <td>A/5 21171</td>\n",
       "      <td>7.2500</td>\n",
       "      <td>NaN</td>\n",
       "      <td>S</td>\n",
       "    </tr>\n",
       "    <tr>\n",
       "      <th>1</th>\n",
       "      <td>2</td>\n",
       "      <td>1</td>\n",
       "      <td>1</td>\n",
       "      <td>Cumings, Mrs. John Bradley (Florence Briggs Th...</td>\n",
       "      <td>female</td>\n",
       "      <td>38.0</td>\n",
       "      <td>1</td>\n",
       "      <td>0</td>\n",
       "      <td>PC 17599</td>\n",
       "      <td>71.2833</td>\n",
       "      <td>C85</td>\n",
       "      <td>C</td>\n",
       "    </tr>\n",
       "    <tr>\n",
       "      <th>2</th>\n",
       "      <td>3</td>\n",
       "      <td>1</td>\n",
       "      <td>3</td>\n",
       "      <td>Heikkinen, Miss. Laina</td>\n",
       "      <td>female</td>\n",
       "      <td>26.0</td>\n",
       "      <td>0</td>\n",
       "      <td>0</td>\n",
       "      <td>STON/O2. 3101282</td>\n",
       "      <td>7.9250</td>\n",
       "      <td>NaN</td>\n",
       "      <td>S</td>\n",
       "    </tr>\n",
       "    <tr>\n",
       "      <th>3</th>\n",
       "      <td>4</td>\n",
       "      <td>1</td>\n",
       "      <td>1</td>\n",
       "      <td>Futrelle, Mrs. Jacques Heath (Lily May Peel)</td>\n",
       "      <td>female</td>\n",
       "      <td>35.0</td>\n",
       "      <td>1</td>\n",
       "      <td>0</td>\n",
       "      <td>113803</td>\n",
       "      <td>53.1000</td>\n",
       "      <td>C123</td>\n",
       "      <td>S</td>\n",
       "    </tr>\n",
       "    <tr>\n",
       "      <th>4</th>\n",
       "      <td>5</td>\n",
       "      <td>0</td>\n",
       "      <td>3</td>\n",
       "      <td>Allen, Mr. William Henry</td>\n",
       "      <td>male</td>\n",
       "      <td>35.0</td>\n",
       "      <td>0</td>\n",
       "      <td>0</td>\n",
       "      <td>373450</td>\n",
       "      <td>8.0500</td>\n",
       "      <td>NaN</td>\n",
       "      <td>S</td>\n",
       "    </tr>\n",
       "  </tbody>\n",
       "</table>\n",
       "</div>"
      ],
      "text/plain": [
       "   PassengerId  Survived  Pclass  \\\n",
       "0            1         0       3   \n",
       "1            2         1       1   \n",
       "2            3         1       3   \n",
       "3            4         1       1   \n",
       "4            5         0       3   \n",
       "\n",
       "                                                Name     Sex   Age  SibSp  \\\n",
       "0                            Braund, Mr. Owen Harris    male  22.0      1   \n",
       "1  Cumings, Mrs. John Bradley (Florence Briggs Th...  female  38.0      1   \n",
       "2                             Heikkinen, Miss. Laina  female  26.0      0   \n",
       "3       Futrelle, Mrs. Jacques Heath (Lily May Peel)  female  35.0      1   \n",
       "4                           Allen, Mr. William Henry    male  35.0      0   \n",
       "\n",
       "   Parch            Ticket     Fare Cabin Embarked  \n",
       "0      0         A/5 21171   7.2500   NaN        S  \n",
       "1      0          PC 17599  71.2833   C85        C  \n",
       "2      0  STON/O2. 3101282   7.9250   NaN        S  \n",
       "3      0            113803  53.1000  C123        S  \n",
       "4      0            373450   8.0500   NaN        S  "
      ]
     },
     "metadata": {},
     "output_type": "display_data"
    },
    {
     "data": {
      "text/html": [
       "<div>\n",
       "<style scoped>\n",
       "    .dataframe tbody tr th:only-of-type {\n",
       "        vertical-align: middle;\n",
       "    }\n",
       "\n",
       "    .dataframe tbody tr th {\n",
       "        vertical-align: top;\n",
       "    }\n",
       "\n",
       "    .dataframe thead th {\n",
       "        text-align: right;\n",
       "    }\n",
       "</style>\n",
       "<table border=\"1\" class=\"dataframe\">\n",
       "  <thead>\n",
       "    <tr style=\"text-align: right;\">\n",
       "      <th></th>\n",
       "      <th>PassengerId</th>\n",
       "      <th>Pclass</th>\n",
       "      <th>Name</th>\n",
       "      <th>Sex</th>\n",
       "      <th>Age</th>\n",
       "      <th>SibSp</th>\n",
       "      <th>Parch</th>\n",
       "      <th>Ticket</th>\n",
       "      <th>Fare</th>\n",
       "      <th>Cabin</th>\n",
       "      <th>Embarked</th>\n",
       "    </tr>\n",
       "  </thead>\n",
       "  <tbody>\n",
       "    <tr>\n",
       "      <th>0</th>\n",
       "      <td>892</td>\n",
       "      <td>3</td>\n",
       "      <td>Kelly, Mr. James</td>\n",
       "      <td>male</td>\n",
       "      <td>34.5</td>\n",
       "      <td>0</td>\n",
       "      <td>0</td>\n",
       "      <td>330911</td>\n",
       "      <td>7.8292</td>\n",
       "      <td>NaN</td>\n",
       "      <td>Q</td>\n",
       "    </tr>\n",
       "    <tr>\n",
       "      <th>1</th>\n",
       "      <td>893</td>\n",
       "      <td>3</td>\n",
       "      <td>Wilkes, Mrs. James (Ellen Needs)</td>\n",
       "      <td>female</td>\n",
       "      <td>47.0</td>\n",
       "      <td>1</td>\n",
       "      <td>0</td>\n",
       "      <td>363272</td>\n",
       "      <td>7.0000</td>\n",
       "      <td>NaN</td>\n",
       "      <td>S</td>\n",
       "    </tr>\n",
       "    <tr>\n",
       "      <th>2</th>\n",
       "      <td>894</td>\n",
       "      <td>2</td>\n",
       "      <td>Myles, Mr. Thomas Francis</td>\n",
       "      <td>male</td>\n",
       "      <td>62.0</td>\n",
       "      <td>0</td>\n",
       "      <td>0</td>\n",
       "      <td>240276</td>\n",
       "      <td>9.6875</td>\n",
       "      <td>NaN</td>\n",
       "      <td>Q</td>\n",
       "    </tr>\n",
       "    <tr>\n",
       "      <th>3</th>\n",
       "      <td>895</td>\n",
       "      <td>3</td>\n",
       "      <td>Wirz, Mr. Albert</td>\n",
       "      <td>male</td>\n",
       "      <td>27.0</td>\n",
       "      <td>0</td>\n",
       "      <td>0</td>\n",
       "      <td>315154</td>\n",
       "      <td>8.6625</td>\n",
       "      <td>NaN</td>\n",
       "      <td>S</td>\n",
       "    </tr>\n",
       "    <tr>\n",
       "      <th>4</th>\n",
       "      <td>896</td>\n",
       "      <td>3</td>\n",
       "      <td>Hirvonen, Mrs. Alexander (Helga E Lindqvist)</td>\n",
       "      <td>female</td>\n",
       "      <td>22.0</td>\n",
       "      <td>1</td>\n",
       "      <td>1</td>\n",
       "      <td>3101298</td>\n",
       "      <td>12.2875</td>\n",
       "      <td>NaN</td>\n",
       "      <td>S</td>\n",
       "    </tr>\n",
       "  </tbody>\n",
       "</table>\n",
       "</div>"
      ],
      "text/plain": [
       "   PassengerId  Pclass                                          Name     Sex  \\\n",
       "0          892       3                              Kelly, Mr. James    male   \n",
       "1          893       3              Wilkes, Mrs. James (Ellen Needs)  female   \n",
       "2          894       2                     Myles, Mr. Thomas Francis    male   \n",
       "3          895       3                              Wirz, Mr. Albert    male   \n",
       "4          896       3  Hirvonen, Mrs. Alexander (Helga E Lindqvist)  female   \n",
       "\n",
       "    Age  SibSp  Parch   Ticket     Fare Cabin Embarked  \n",
       "0  34.5      0      0   330911   7.8292   NaN        Q  \n",
       "1  47.0      1      0   363272   7.0000   NaN        S  \n",
       "2  62.0      0      0   240276   9.6875   NaN        Q  \n",
       "3  27.0      0      0   315154   8.6625   NaN        S  \n",
       "4  22.0      1      1  3101298  12.2875   NaN        S  "
      ]
     },
     "metadata": {},
     "output_type": "display_data"
    }
   ],
   "source": [
    "display(train_df.head(5))\n",
    "display(test_df.head(5))"
   ]
  },
  {
   "cell_type": "code",
   "execution_count": 380,
   "id": "3501a7fa-fbde-4752-9360-7abd9841c908",
   "metadata": {},
   "outputs": [
    {
     "name": "stdout",
     "output_type": "stream",
     "text": [
      "<class 'pandas.core.frame.DataFrame'>\n",
      "RangeIndex: 891 entries, 0 to 890\n",
      "Data columns (total 12 columns):\n",
      " #   Column       Non-Null Count  Dtype  \n",
      "---  ------       --------------  -----  \n",
      " 0   PassengerId  891 non-null    int64  \n",
      " 1   Survived     891 non-null    int64  \n",
      " 2   Pclass       891 non-null    int64  \n",
      " 3   Name         891 non-null    object \n",
      " 4   Sex          891 non-null    object \n",
      " 5   Age          714 non-null    float64\n",
      " 6   SibSp        891 non-null    int64  \n",
      " 7   Parch        891 non-null    int64  \n",
      " 8   Ticket       891 non-null    object \n",
      " 9   Fare         891 non-null    float64\n",
      " 10  Cabin        204 non-null    object \n",
      " 11  Embarked     889 non-null    object \n",
      "dtypes: float64(2), int64(5), object(5)\n",
      "memory usage: 83.7+ KB\n",
      "<class 'pandas.core.frame.DataFrame'>\n",
      "RangeIndex: 418 entries, 0 to 417\n",
      "Data columns (total 11 columns):\n",
      " #   Column       Non-Null Count  Dtype  \n",
      "---  ------       --------------  -----  \n",
      " 0   PassengerId  418 non-null    int64  \n",
      " 1   Pclass       418 non-null    int64  \n",
      " 2   Name         418 non-null    object \n",
      " 3   Sex          418 non-null    object \n",
      " 4   Age          332 non-null    float64\n",
      " 5   SibSp        418 non-null    int64  \n",
      " 6   Parch        418 non-null    int64  \n",
      " 7   Ticket       418 non-null    object \n",
      " 8   Fare         417 non-null    float64\n",
      " 9   Cabin        91 non-null     object \n",
      " 10  Embarked     418 non-null    object \n",
      "dtypes: float64(2), int64(4), object(5)\n",
      "memory usage: 36.1+ KB\n"
     ]
    }
   ],
   "source": [
    "train_df.info()\n",
    "test_df.info()"
   ]
  },
  {
   "cell_type": "code",
   "execution_count": 381,
   "id": "5ece6a3d-e20e-47c1-985a-5c2d9c8e9611",
   "metadata": {},
   "outputs": [
    {
     "data": {
      "text/html": [
       "<div>\n",
       "<style scoped>\n",
       "    .dataframe tbody tr th:only-of-type {\n",
       "        vertical-align: middle;\n",
       "    }\n",
       "\n",
       "    .dataframe tbody tr th {\n",
       "        vertical-align: top;\n",
       "    }\n",
       "\n",
       "    .dataframe thead th {\n",
       "        text-align: right;\n",
       "    }\n",
       "</style>\n",
       "<table border=\"1\" class=\"dataframe\">\n",
       "  <thead>\n",
       "    <tr style=\"text-align: right;\">\n",
       "      <th></th>\n",
       "      <th>PassengerId</th>\n",
       "      <th>Survived</th>\n",
       "      <th>Pclass</th>\n",
       "      <th>Age</th>\n",
       "      <th>SibSp</th>\n",
       "      <th>Parch</th>\n",
       "      <th>Fare</th>\n",
       "    </tr>\n",
       "  </thead>\n",
       "  <tbody>\n",
       "    <tr>\n",
       "      <th>count</th>\n",
       "      <td>891.000000</td>\n",
       "      <td>891.000000</td>\n",
       "      <td>891.000000</td>\n",
       "      <td>714.000000</td>\n",
       "      <td>891.000000</td>\n",
       "      <td>891.000000</td>\n",
       "      <td>891.000000</td>\n",
       "    </tr>\n",
       "    <tr>\n",
       "      <th>mean</th>\n",
       "      <td>446.000000</td>\n",
       "      <td>0.383838</td>\n",
       "      <td>2.308642</td>\n",
       "      <td>29.699118</td>\n",
       "      <td>0.523008</td>\n",
       "      <td>0.381594</td>\n",
       "      <td>32.204208</td>\n",
       "    </tr>\n",
       "    <tr>\n",
       "      <th>std</th>\n",
       "      <td>257.353842</td>\n",
       "      <td>0.486592</td>\n",
       "      <td>0.836071</td>\n",
       "      <td>14.526497</td>\n",
       "      <td>1.102743</td>\n",
       "      <td>0.806057</td>\n",
       "      <td>49.693429</td>\n",
       "    </tr>\n",
       "    <tr>\n",
       "      <th>min</th>\n",
       "      <td>1.000000</td>\n",
       "      <td>0.000000</td>\n",
       "      <td>1.000000</td>\n",
       "      <td>0.420000</td>\n",
       "      <td>0.000000</td>\n",
       "      <td>0.000000</td>\n",
       "      <td>0.000000</td>\n",
       "    </tr>\n",
       "    <tr>\n",
       "      <th>25%</th>\n",
       "      <td>223.500000</td>\n",
       "      <td>0.000000</td>\n",
       "      <td>2.000000</td>\n",
       "      <td>20.125000</td>\n",
       "      <td>0.000000</td>\n",
       "      <td>0.000000</td>\n",
       "      <td>7.910400</td>\n",
       "    </tr>\n",
       "    <tr>\n",
       "      <th>50%</th>\n",
       "      <td>446.000000</td>\n",
       "      <td>0.000000</td>\n",
       "      <td>3.000000</td>\n",
       "      <td>28.000000</td>\n",
       "      <td>0.000000</td>\n",
       "      <td>0.000000</td>\n",
       "      <td>14.454200</td>\n",
       "    </tr>\n",
       "    <tr>\n",
       "      <th>75%</th>\n",
       "      <td>668.500000</td>\n",
       "      <td>1.000000</td>\n",
       "      <td>3.000000</td>\n",
       "      <td>38.000000</td>\n",
       "      <td>1.000000</td>\n",
       "      <td>0.000000</td>\n",
       "      <td>31.000000</td>\n",
       "    </tr>\n",
       "    <tr>\n",
       "      <th>max</th>\n",
       "      <td>891.000000</td>\n",
       "      <td>1.000000</td>\n",
       "      <td>3.000000</td>\n",
       "      <td>80.000000</td>\n",
       "      <td>8.000000</td>\n",
       "      <td>6.000000</td>\n",
       "      <td>512.329200</td>\n",
       "    </tr>\n",
       "  </tbody>\n",
       "</table>\n",
       "</div>"
      ],
      "text/plain": [
       "       PassengerId    Survived      Pclass         Age       SibSp  \\\n",
       "count   891.000000  891.000000  891.000000  714.000000  891.000000   \n",
       "mean    446.000000    0.383838    2.308642   29.699118    0.523008   \n",
       "std     257.353842    0.486592    0.836071   14.526497    1.102743   \n",
       "min       1.000000    0.000000    1.000000    0.420000    0.000000   \n",
       "25%     223.500000    0.000000    2.000000   20.125000    0.000000   \n",
       "50%     446.000000    0.000000    3.000000   28.000000    0.000000   \n",
       "75%     668.500000    1.000000    3.000000   38.000000    1.000000   \n",
       "max     891.000000    1.000000    3.000000   80.000000    8.000000   \n",
       "\n",
       "            Parch        Fare  \n",
       "count  891.000000  891.000000  \n",
       "mean     0.381594   32.204208  \n",
       "std      0.806057   49.693429  \n",
       "min      0.000000    0.000000  \n",
       "25%      0.000000    7.910400  \n",
       "50%      0.000000   14.454200  \n",
       "75%      0.000000   31.000000  \n",
       "max      6.000000  512.329200  "
      ]
     },
     "execution_count": 381,
     "metadata": {},
     "output_type": "execute_result"
    }
   ],
   "source": [
    "train_df.describe()"
   ]
  },
  {
   "cell_type": "code",
   "execution_count": 382,
   "id": "eab2833e-a7da-41e1-8363-13f7b7ef8475",
   "metadata": {},
   "outputs": [
    {
     "data": {
      "text/html": [
       "<div>\n",
       "<style scoped>\n",
       "    .dataframe tbody tr th:only-of-type {\n",
       "        vertical-align: middle;\n",
       "    }\n",
       "\n",
       "    .dataframe tbody tr th {\n",
       "        vertical-align: top;\n",
       "    }\n",
       "\n",
       "    .dataframe thead th {\n",
       "        text-align: right;\n",
       "    }\n",
       "</style>\n",
       "<table border=\"1\" class=\"dataframe\">\n",
       "  <thead>\n",
       "    <tr style=\"text-align: right;\">\n",
       "      <th></th>\n",
       "      <th>PassengerId</th>\n",
       "      <th>Pclass</th>\n",
       "      <th>Age</th>\n",
       "      <th>SibSp</th>\n",
       "      <th>Parch</th>\n",
       "      <th>Fare</th>\n",
       "    </tr>\n",
       "  </thead>\n",
       "  <tbody>\n",
       "    <tr>\n",
       "      <th>count</th>\n",
       "      <td>418.000000</td>\n",
       "      <td>418.000000</td>\n",
       "      <td>332.000000</td>\n",
       "      <td>418.000000</td>\n",
       "      <td>418.000000</td>\n",
       "      <td>417.000000</td>\n",
       "    </tr>\n",
       "    <tr>\n",
       "      <th>mean</th>\n",
       "      <td>1100.500000</td>\n",
       "      <td>2.265550</td>\n",
       "      <td>30.272590</td>\n",
       "      <td>0.447368</td>\n",
       "      <td>0.392344</td>\n",
       "      <td>35.627188</td>\n",
       "    </tr>\n",
       "    <tr>\n",
       "      <th>std</th>\n",
       "      <td>120.810458</td>\n",
       "      <td>0.841838</td>\n",
       "      <td>14.181209</td>\n",
       "      <td>0.896760</td>\n",
       "      <td>0.981429</td>\n",
       "      <td>55.907576</td>\n",
       "    </tr>\n",
       "    <tr>\n",
       "      <th>min</th>\n",
       "      <td>892.000000</td>\n",
       "      <td>1.000000</td>\n",
       "      <td>0.170000</td>\n",
       "      <td>0.000000</td>\n",
       "      <td>0.000000</td>\n",
       "      <td>0.000000</td>\n",
       "    </tr>\n",
       "    <tr>\n",
       "      <th>25%</th>\n",
       "      <td>996.250000</td>\n",
       "      <td>1.000000</td>\n",
       "      <td>21.000000</td>\n",
       "      <td>0.000000</td>\n",
       "      <td>0.000000</td>\n",
       "      <td>7.895800</td>\n",
       "    </tr>\n",
       "    <tr>\n",
       "      <th>50%</th>\n",
       "      <td>1100.500000</td>\n",
       "      <td>3.000000</td>\n",
       "      <td>27.000000</td>\n",
       "      <td>0.000000</td>\n",
       "      <td>0.000000</td>\n",
       "      <td>14.454200</td>\n",
       "    </tr>\n",
       "    <tr>\n",
       "      <th>75%</th>\n",
       "      <td>1204.750000</td>\n",
       "      <td>3.000000</td>\n",
       "      <td>39.000000</td>\n",
       "      <td>1.000000</td>\n",
       "      <td>0.000000</td>\n",
       "      <td>31.500000</td>\n",
       "    </tr>\n",
       "    <tr>\n",
       "      <th>max</th>\n",
       "      <td>1309.000000</td>\n",
       "      <td>3.000000</td>\n",
       "      <td>76.000000</td>\n",
       "      <td>8.000000</td>\n",
       "      <td>9.000000</td>\n",
       "      <td>512.329200</td>\n",
       "    </tr>\n",
       "  </tbody>\n",
       "</table>\n",
       "</div>"
      ],
      "text/plain": [
       "       PassengerId      Pclass         Age       SibSp       Parch        Fare\n",
       "count   418.000000  418.000000  332.000000  418.000000  418.000000  417.000000\n",
       "mean   1100.500000    2.265550   30.272590    0.447368    0.392344   35.627188\n",
       "std     120.810458    0.841838   14.181209    0.896760    0.981429   55.907576\n",
       "min     892.000000    1.000000    0.170000    0.000000    0.000000    0.000000\n",
       "25%     996.250000    1.000000   21.000000    0.000000    0.000000    7.895800\n",
       "50%    1100.500000    3.000000   27.000000    0.000000    0.000000   14.454200\n",
       "75%    1204.750000    3.000000   39.000000    1.000000    0.000000   31.500000\n",
       "max    1309.000000    3.000000   76.000000    8.000000    9.000000  512.329200"
      ]
     },
     "execution_count": 382,
     "metadata": {},
     "output_type": "execute_result"
    }
   ],
   "source": [
    "test_df.describe()"
   ]
  },
  {
   "cell_type": "markdown",
   "id": "b6767075-df92-46f7-942e-936e9ea65378",
   "metadata": {},
   "source": [
    "## Data Cleaning"
   ]
  },
  {
   "cell_type": "markdown",
   "id": "84204f8b-d89d-4654-939b-43b9b4a03981",
   "metadata": {},
   "source": [
    "### Feature engineering"
   ]
  },
  {
   "cell_type": "markdown",
   "id": "0f691416-ee93-4ea9-bfb5-cb5dde2c6368",
   "metadata": {},
   "source": [
    "Let's create a new column 'Title' by extracting the Title from the 'Name' column."
   ]
  },
  {
   "cell_type": "code",
   "execution_count": 383,
   "id": "fdeb8f59-4b58-480f-8d61-704fbe6ca154",
   "metadata": {},
   "outputs": [],
   "source": [
    "title_list = ['Mrs', 'Mr', 'Master', 'Miss', 'Major', 'Rev',\n",
    "                    'Dr', 'Ms', 'Mlle', 'Col', 'Capt', 'Mme', 'Countess',\n",
    "                    'Don', 'Jonkheer']\n",
    "\n",
    "pattern = '|'.join(title_list)\n",
    "train_df['Title'] = train_df['Name'].str.extract(f'({pattern})')\n",
    "test_df['Title'] = test_df['Name'].str.extract(f'({pattern})')"
   ]
  },
  {
   "cell_type": "markdown",
   "id": "3eddd3d0-3403-41c2-bd40-75405094516e",
   "metadata": {},
   "source": [
    "There are some redundant titles : Ms, Mlle and Miss are the same and Mme and Mrs are equivalent. Let's combine them."
   ]
  },
  {
   "cell_type": "code",
   "execution_count": 384,
   "id": "271ed5f0-5662-4ee0-a63b-56b351d0c93d",
   "metadata": {},
   "outputs": [],
   "source": [
    "def replace_titles(x):\n",
    "    title = x['Title']\n",
    "    if title in ['Mlle', 'Ms']:\n",
    "        return 'Miss'\n",
    "    elif title == 'Mme':\n",
    "        return 'Mrs'\n",
    "    else:\n",
    "        return title\n",
    "        \n",
    "train_df['Title'] = train_df.apply(replace_titles, axis=1)\n",
    "test_df['Title'] = test_df.apply(replace_titles, axis=1)"
   ]
  },
  {
   "cell_type": "markdown",
   "id": "9c0b7919-bebd-4e55-a331-6f5ac845d670",
   "metadata": {},
   "source": [
    "Let's extract the deck name from the cabin string. A cabin number looks like ‘C123’. The letter refers to the deck, let's extract these just like the titles using a string pattern. We then fill the remaining NaN values with 'Unkonwn'."
   ]
  },
  {
   "cell_type": "code",
   "execution_count": 385,
   "id": "32bcfa3c-553f-4bbc-9826-e514df1be87b",
   "metadata": {},
   "outputs": [],
   "source": [
    "cabin_list = ['A', 'B', 'C', 'D', 'E', 'F', 'T', 'G']\n",
    "\n",
    "pattern = '|'.join(cabin_list)\n",
    "train_df['Deck'] = train_df['Cabin'].str.extract(f'({pattern})')\n",
    "test_df['Deck'] = test_df['Cabin'].str.extract(f'({pattern})')\n",
    "\n",
    "train_df['Deck'] = train_df['Deck'].fillna('Unknown')\n",
    "test_df['Deck'] = test_df['Deck'].fillna('Unknown')"
   ]
  },
  {
   "cell_type": "markdown",
   "id": "313287d3-1cb9-498f-9ade-74898a250c76",
   "metadata": {},
   "source": [
    "Embarked feature: fill missing values by the most common value, which is \"S\"."
   ]
  },
  {
   "cell_type": "code",
   "execution_count": 386,
   "id": "d5b3e719-6c9e-43e2-989c-1f7048648cf7",
   "metadata": {},
   "outputs": [],
   "source": [
    "train_df['Embarked'].value_counts()\n",
    "train_df['Embarked'] = train_df['Embarked'].fillna(\"S\")\n",
    "test_df['Embarked'] = test_df['Embarked'].fillna(\"S\")"
   ]
  },
  {
   "cell_type": "markdown",
   "id": "649330cd-b3da-4783-b185-620bed57cffe",
   "metadata": {},
   "source": [
    "Age feature : fill the missing values with the median age."
   ]
  },
  {
   "cell_type": "code",
   "execution_count": 387,
   "id": "5b9c4438-296b-4bca-a156-9437f2ab76a9",
   "metadata": {},
   "outputs": [],
   "source": [
    "median_age = train_df['Age'].dropna().median()\n",
    "train_df['Age'] = train_df['Age'].fillna(median_age)\n",
    "test_df['Age'] = test_df['Age'].fillna(median_age)"
   ]
  },
  {
   "cell_type": "markdown",
   "id": "306dca37-68e2-4896-8897-cfb14db12e14",
   "metadata": {},
   "source": [
    "Fare feature : fill the missing values with the median fare."
   ]
  },
  {
   "cell_type": "code",
   "execution_count": 388,
   "id": "9d4f911f-8748-4ce5-98d6-f1afd000837b",
   "metadata": {},
   "outputs": [],
   "source": [
    "median_fare = train_df['Fare'].dropna().median()\n",
    "train_df['Fare'] = train_df['Fare'].fillna(median_fare)\n",
    "test_df['Fare'] = test_df['Fare'].fillna(median_fare)"
   ]
  },
  {
   "cell_type": "markdown",
   "id": "25b0fde1-8b10-4058-b8a3-86d859bb509b",
   "metadata": {},
   "source": [
    "Let's create a new family size column, as the sum of their ‘SibSp’ and ‘Parch’ attributes. Perhaps people traveling alone did better? Or on the other hand perhaps if you had a family, you might have risked your life looking for them, or even giving up a space up to them in a lifeboat."
   ]
  },
  {
   "cell_type": "code",
   "execution_count": 389,
   "id": "71e526bd-4b47-41d2-8b02-edce176523d6",
   "metadata": {},
   "outputs": [],
   "source": [
    "train_df['Family_Size'] = train_df['SibSp'] + train_df['Parch']\n",
    "test_df['Family_Size'] = test_df['SibSp'] + test_df['Parch']"
   ]
  },
  {
   "cell_type": "markdown",
   "id": "d821e460-77a7-4c2e-b2d1-4fa49305e6fb",
   "metadata": {},
   "source": [
    "Other features."
   ]
  },
  {
   "cell_type": "code",
   "execution_count": 390,
   "id": "e2fc1327-f132-48c2-b5af-f7093b430d55",
   "metadata": {},
   "outputs": [],
   "source": [
    "train_df['Age*Class'] = train_df['Age'] * train_df['Pclass']\n",
    "test_df['Age*Class'] = test_df['Age'] * test_df['Pclass']\n",
    "\n",
    "train_df['Fare_Per_Person'] = train_df['Fare']/(train_df['Family_Size'] + 1)\n",
    "test_df['Fare_Per_Person'] = test_df['Fare']/(test_df['Family_Size'] + 1)"
   ]
  },
  {
   "cell_type": "markdown",
   "id": "5731e43d-8336-49c0-bd48-404dd2179fbd",
   "metadata": {},
   "source": [
    "### Label Encoding\n",
    "In order to train classifier, we need to convert categorical features by numerical values. Let's create some mapping for that."
   ]
  },
  {
   "cell_type": "code",
   "execution_count": 391,
   "id": "90d3de8b-bc65-4032-b63c-702e4f6928d1",
   "metadata": {},
   "outputs": [],
   "source": [
    "title_mapping = {'Mr': 0, 'Mrs': 1, 'Miss': 2, 'Master': 3, 'Dr': 4, 'Rev': 5, 'Don': 6,\n",
    "                  'Col': 7, 'Major': 8, 'Capt': 9, 'Countess': 10, 'Jonkheer': 11}\n",
    "gender_mapping = {'male': 0,'female': 1}\n",
    "embark_mapping = {'S': 0, 'C': 1, 'Q': 2}\n",
    "deck_mapping = {'A': 0, 'B': 1, 'C': 2, 'D': 3, 'E': 4, 'F': 5, 'T': 6, 'G': 7, 'Unknown': 8}\n",
    "\n",
    "train_df['Title'] = train_df['Title'].map(title_mapping).astype(int)\n",
    "test_df['Title'] = test_df['Title'].map(title_mapping).astype(int)\n",
    "\n",
    "train_df['Sex'] = train_df['Sex'].map(gender_mapping).astype(int)\n",
    "test_df['Sex'] = test_df['Sex'].map(gender_mapping).astype(int)\n",
    "\n",
    "train_df['Embarked'] = train_df['Embarked'].map(embark_mapping).astype(int)\n",
    "test_df['Embarked'] = test_df['Embarked'].map(embark_mapping).astype(int)\n",
    "\n",
    "train_df['Deck'] = train_df['Deck'].map(deck_mapping).astype(int)\n",
    "test_df['Deck'] = test_df['Deck'].map(deck_mapping).astype(int)"
   ]
  },
  {
   "cell_type": "markdown",
   "id": "ccf0ed11-65e0-44dd-8b0d-74279c3a9f91",
   "metadata": {},
   "source": [
    "### Drop columns\n",
    "Some columns don't bring useful insights in the prediction : the passenger ID, the passenger name, the ticket number and the cabin number. Let's drop them, and save the passenger ID as idx."
   ]
  },
  {
   "cell_type": "code",
   "execution_count": 392,
   "id": "70fb7e20-9cc1-4711-a25b-35e1ed628af6",
   "metadata": {},
   "outputs": [],
   "source": [
    "idx = test_df['PassengerId'].values\n",
    "train_df = train_df.drop(['PassengerId', 'Name', 'Ticket', 'Cabin'], axis=1)\n",
    "test_df  = test_df.drop(['PassengerId', 'Name', 'Ticket', 'Cabin'], axis=1)"
   ]
  },
  {
   "cell_type": "markdown",
   "id": "cc589010-d2c8-4eb2-88ed-b5b55b09e1b7",
   "metadata": {},
   "source": [
    "Let's look at the cleaned data."
   ]
  },
  {
   "cell_type": "code",
   "execution_count": 393,
   "id": "15fdd1a1-b7a6-4e5f-a008-2de86b1b7fc3",
   "metadata": {},
   "outputs": [
    {
     "data": {
      "text/html": [
       "<div>\n",
       "<style scoped>\n",
       "    .dataframe tbody tr th:only-of-type {\n",
       "        vertical-align: middle;\n",
       "    }\n",
       "\n",
       "    .dataframe tbody tr th {\n",
       "        vertical-align: top;\n",
       "    }\n",
       "\n",
       "    .dataframe thead th {\n",
       "        text-align: right;\n",
       "    }\n",
       "</style>\n",
       "<table border=\"1\" class=\"dataframe\">\n",
       "  <thead>\n",
       "    <tr style=\"text-align: right;\">\n",
       "      <th></th>\n",
       "      <th>Survived</th>\n",
       "      <th>Pclass</th>\n",
       "      <th>Sex</th>\n",
       "      <th>Age</th>\n",
       "      <th>SibSp</th>\n",
       "      <th>Parch</th>\n",
       "      <th>Fare</th>\n",
       "      <th>Embarked</th>\n",
       "      <th>Title</th>\n",
       "      <th>Deck</th>\n",
       "      <th>Family_Size</th>\n",
       "      <th>Age*Class</th>\n",
       "      <th>Fare_Per_Person</th>\n",
       "    </tr>\n",
       "  </thead>\n",
       "  <tbody>\n",
       "    <tr>\n",
       "      <th>0</th>\n",
       "      <td>0</td>\n",
       "      <td>3</td>\n",
       "      <td>0</td>\n",
       "      <td>22.0</td>\n",
       "      <td>1</td>\n",
       "      <td>0</td>\n",
       "      <td>7.2500</td>\n",
       "      <td>0</td>\n",
       "      <td>0</td>\n",
       "      <td>8</td>\n",
       "      <td>1</td>\n",
       "      <td>66.0</td>\n",
       "      <td>3.62500</td>\n",
       "    </tr>\n",
       "    <tr>\n",
       "      <th>1</th>\n",
       "      <td>1</td>\n",
       "      <td>1</td>\n",
       "      <td>1</td>\n",
       "      <td>38.0</td>\n",
       "      <td>1</td>\n",
       "      <td>0</td>\n",
       "      <td>71.2833</td>\n",
       "      <td>1</td>\n",
       "      <td>1</td>\n",
       "      <td>2</td>\n",
       "      <td>1</td>\n",
       "      <td>38.0</td>\n",
       "      <td>35.64165</td>\n",
       "    </tr>\n",
       "    <tr>\n",
       "      <th>2</th>\n",
       "      <td>1</td>\n",
       "      <td>3</td>\n",
       "      <td>1</td>\n",
       "      <td>26.0</td>\n",
       "      <td>0</td>\n",
       "      <td>0</td>\n",
       "      <td>7.9250</td>\n",
       "      <td>0</td>\n",
       "      <td>2</td>\n",
       "      <td>8</td>\n",
       "      <td>0</td>\n",
       "      <td>78.0</td>\n",
       "      <td>7.92500</td>\n",
       "    </tr>\n",
       "    <tr>\n",
       "      <th>3</th>\n",
       "      <td>1</td>\n",
       "      <td>1</td>\n",
       "      <td>1</td>\n",
       "      <td>35.0</td>\n",
       "      <td>1</td>\n",
       "      <td>0</td>\n",
       "      <td>53.1000</td>\n",
       "      <td>0</td>\n",
       "      <td>1</td>\n",
       "      <td>2</td>\n",
       "      <td>1</td>\n",
       "      <td>35.0</td>\n",
       "      <td>26.55000</td>\n",
       "    </tr>\n",
       "    <tr>\n",
       "      <th>4</th>\n",
       "      <td>0</td>\n",
       "      <td>3</td>\n",
       "      <td>0</td>\n",
       "      <td>35.0</td>\n",
       "      <td>0</td>\n",
       "      <td>0</td>\n",
       "      <td>8.0500</td>\n",
       "      <td>0</td>\n",
       "      <td>0</td>\n",
       "      <td>8</td>\n",
       "      <td>0</td>\n",
       "      <td>105.0</td>\n",
       "      <td>8.05000</td>\n",
       "    </tr>\n",
       "  </tbody>\n",
       "</table>\n",
       "</div>"
      ],
      "text/plain": [
       "   Survived  Pclass  Sex   Age  SibSp  Parch     Fare  Embarked  Title  Deck  \\\n",
       "0         0       3    0  22.0      1      0   7.2500         0      0     8   \n",
       "1         1       1    1  38.0      1      0  71.2833         1      1     2   \n",
       "2         1       3    1  26.0      0      0   7.9250         0      2     8   \n",
       "3         1       1    1  35.0      1      0  53.1000         0      1     2   \n",
       "4         0       3    0  35.0      0      0   8.0500         0      0     8   \n",
       "\n",
       "   Family_Size  Age*Class  Fare_Per_Person  \n",
       "0            1       66.0          3.62500  \n",
       "1            1       38.0         35.64165  \n",
       "2            0       78.0          7.92500  \n",
       "3            1       35.0         26.55000  \n",
       "4            0      105.0          8.05000  "
      ]
     },
     "metadata": {},
     "output_type": "display_data"
    }
   ],
   "source": [
    "display(train_df.head(5))"
   ]
  },
  {
   "cell_type": "markdown",
   "id": "eb458180-c77a-44f9-9448-cdac05365faf",
   "metadata": {},
   "source": [
    "## Training the model"
   ]
  },
  {
   "cell_type": "markdown",
   "id": "e462a3b9-5476-4693-af5a-cce3142fd467",
   "metadata": {},
   "source": [
    "Let's prepare the data for fitting."
   ]
  },
  {
   "cell_type": "code",
   "execution_count": 394,
   "id": "f354a64d-683f-4a24-9577-ed3e1991a072",
   "metadata": {},
   "outputs": [],
   "source": [
    "X_train = train_df.iloc[:, 1:] \n",
    "X_test = test_df\n",
    "y_train = train_df.iloc[:, 0]"
   ]
  },
  {
   "cell_type": "markdown",
   "id": "70d5a27b-1574-48b8-bd3d-0b474625776f",
   "metadata": {},
   "source": [
    "## Fit the models and write output"
   ]
  },
  {
   "cell_type": "code",
   "execution_count": 395,
   "id": "26bd4eab-ca51-4421-8d5e-4fe3e5759779",
   "metadata": {},
   "outputs": [],
   "source": [
    "def write_output(filename, idx, out):\n",
    "    \"\"\"\n",
    "    Write result of training to filename: 1st column is idx and 2nd column is out\n",
    "    \"\"\"        \n",
    "        \n",
    "    predictions_file = open(filename, \"w\")\n",
    "    open_file_object = csv.writer(predictions_file)\n",
    "    open_file_object.writerow([\"PassengerId\", \"Survived\"])\n",
    "    open_file_object.writerows(zip(idx, out))\n",
    "    predictions_file.close()  "
   ]
  },
  {
   "cell_type": "code",
   "execution_count": 410,
   "id": "bf7e01c0-a54f-4d27-b78b-fc5a6f7f7399",
   "metadata": {},
   "outputs": [],
   "source": [
    "def classification_model(model, X_train, X_test, y_train, model_name=None):\n",
    "    \"\"\"\n",
    "    Train a classification model and assessing performance\n",
    "    model: eg. model = LogisticRegression()\n",
    "    X_train: train dataframe without the target column\n",
    "    X_test: test dataframe    \n",
    "    y_train: target column\n",
    "    model_name: name of the model for tracking\n",
    "    results_dataframe: DataFrame to append results to (optional)\n",
    "    \"\"\"\n",
    "    \n",
    "    # Use model class name if no specific name provided\n",
    "    if model_name is None:\n",
    "        model_name = model.__class__.__name__\n",
    "    \n",
    "    print(f\"Training: {model_name}\")    \n",
    "    \n",
    "    # Fit the model\n",
    "    model.fit(X_train, y_train)\n",
    "    \n",
    "    # Perform cross-validation with 5 folds\n",
    "    scores = cross_val_score(model, X_train, y_train, cv=5)\n",
    "    cv_mean = np.mean(scores)\n",
    "    cv_std = np.std(scores)\n",
    "    \n",
    "    # Predictions on train set\n",
    "    y_pred_train = model.predict(X_train)\n",
    "    \n",
    "    # Predict on test set \n",
    "    y_pred_test = model.predict(X_test)\n",
    "    \n",
    "    # Calculate metrics\n",
    "    accuracy = metrics.accuracy_score(y_train, y_pred_train)\n",
    "    precision = metrics.precision_score(y_train, y_pred_train, average='weighted', zero_division=0)\n",
    "    recall = metrics.recall_score(y_train, y_pred_train, average='weighted', zero_division=0)\n",
    "    f1 = metrics.f1_score(y_train, y_pred_train, average='weighted', zero_division=0)\n",
    "    \n",
    "    # Create results dictionary\n",
    "    results_dict = {\n",
    "        'Model_Name': model_name,\n",
    "        'Train_Accuracy': accuracy,\n",
    "        'Precision': precision,\n",
    "        'Recall': recall,\n",
    "        'F1_Score': f1,\n",
    "        'CV_Mean': cv_mean,\n",
    "        'CV_Std': cv_std\n",
    "    }\n",
    "    \n",
    "    return y_pred_test, y_pred_train, results_dict"
   ]
  },
  {
   "cell_type": "markdown",
   "id": "3a5652f1-e7dd-4564-aa65-058eb3687b59",
   "metadata": {},
   "source": [
    "Initialize a DataFrame to store results and create a list of classifier."
   ]
  },
  {
   "cell_type": "code",
   "execution_count": 411,
   "id": "4374d902-8317-4cb5-80a1-85ad56df7267",
   "metadata": {},
   "outputs": [],
   "source": [
    "results_df = pd.DataFrame(columns=['Model_Name', 'Train_Accuracy', 'Precision', 'Recall', 'F1_Score', 'CV_Mean', 'CV_Std'])\n",
    "\n",
    "models = [\n",
    "    LogisticRegression(),\n",
    "    RandomForestClassifier(n_estimators=100),\n",
    "    SVC(),\n",
    "    GaussianNB(),\n",
    "    DecisionTreeClassifier(),\n",
    "    GaussianNB(),\n",
    "    KNeighborsClassifier(algorithm='ball_tree', leaf_size=10, metric='minkowski',\n",
    "   metric_params=None, n_jobs=1, n_neighbors=19, p=2,\n",
    "   weights='uniform')\n",
    "]"
   ]
  },
  {
   "cell_type": "markdown",
   "id": "f7d19a94-ea79-4fd8-bb45-96a2028bd96e",
   "metadata": {},
   "source": [
    "Train all the models in the list and append results."
   ]
  },
  {
   "cell_type": "code",
   "execution_count": 412,
   "id": "0303163d-997e-4bf1-9f1b-a38f7ef821dd",
   "metadata": {},
   "outputs": [
    {
     "name": "stdout",
     "output_type": "stream",
     "text": [
      "Training: LogisticRegression\n"
     ]
    },
    {
     "name": "stderr",
     "output_type": "stream",
     "text": [
      "/home/pierre/bin/miniconda3/envs/py-data/lib/python3.13/site-packages/sklearn/linear_model/_logistic.py:473: ConvergenceWarning: lbfgs failed to converge after 100 iteration(s) (status=1):\n",
      "STOP: TOTAL NO. OF ITERATIONS REACHED LIMIT\n",
      "\n",
      "Increase the number of iterations to improve the convergence (max_iter=100).\n",
      "You might also want to scale the data as shown in:\n",
      "    https://scikit-learn.org/stable/modules/preprocessing.html\n",
      "Please also refer to the documentation for alternative solver options:\n",
      "    https://scikit-learn.org/stable/modules/linear_model.html#logistic-regression\n",
      "  n_iter_i = _check_optimize_result(\n",
      "/home/pierre/bin/miniconda3/envs/py-data/lib/python3.13/site-packages/sklearn/linear_model/_logistic.py:473: ConvergenceWarning: lbfgs failed to converge after 100 iteration(s) (status=1):\n",
      "STOP: TOTAL NO. OF ITERATIONS REACHED LIMIT\n",
      "\n",
      "Increase the number of iterations to improve the convergence (max_iter=100).\n",
      "You might also want to scale the data as shown in:\n",
      "    https://scikit-learn.org/stable/modules/preprocessing.html\n",
      "Please also refer to the documentation for alternative solver options:\n",
      "    https://scikit-learn.org/stable/modules/linear_model.html#logistic-regression\n",
      "  n_iter_i = _check_optimize_result(\n",
      "/home/pierre/bin/miniconda3/envs/py-data/lib/python3.13/site-packages/sklearn/linear_model/_logistic.py:473: ConvergenceWarning: lbfgs failed to converge after 100 iteration(s) (status=1):\n",
      "STOP: TOTAL NO. OF ITERATIONS REACHED LIMIT\n",
      "\n",
      "Increase the number of iterations to improve the convergence (max_iter=100).\n",
      "You might also want to scale the data as shown in:\n",
      "    https://scikit-learn.org/stable/modules/preprocessing.html\n",
      "Please also refer to the documentation for alternative solver options:\n",
      "    https://scikit-learn.org/stable/modules/linear_model.html#logistic-regression\n",
      "  n_iter_i = _check_optimize_result(\n",
      "/home/pierre/bin/miniconda3/envs/py-data/lib/python3.13/site-packages/sklearn/linear_model/_logistic.py:473: ConvergenceWarning: lbfgs failed to converge after 100 iteration(s) (status=1):\n",
      "STOP: TOTAL NO. OF ITERATIONS REACHED LIMIT\n",
      "\n",
      "Increase the number of iterations to improve the convergence (max_iter=100).\n",
      "You might also want to scale the data as shown in:\n",
      "    https://scikit-learn.org/stable/modules/preprocessing.html\n",
      "Please also refer to the documentation for alternative solver options:\n",
      "    https://scikit-learn.org/stable/modules/linear_model.html#logistic-regression\n",
      "  n_iter_i = _check_optimize_result(\n",
      "/home/pierre/bin/miniconda3/envs/py-data/lib/python3.13/site-packages/sklearn/linear_model/_logistic.py:473: ConvergenceWarning: lbfgs failed to converge after 100 iteration(s) (status=1):\n",
      "STOP: TOTAL NO. OF ITERATIONS REACHED LIMIT\n",
      "\n",
      "Increase the number of iterations to improve the convergence (max_iter=100).\n",
      "You might also want to scale the data as shown in:\n",
      "    https://scikit-learn.org/stable/modules/preprocessing.html\n",
      "Please also refer to the documentation for alternative solver options:\n",
      "    https://scikit-learn.org/stable/modules/linear_model.html#logistic-regression\n",
      "  n_iter_i = _check_optimize_result(\n",
      "/home/pierre/bin/miniconda3/envs/py-data/lib/python3.13/site-packages/sklearn/linear_model/_logistic.py:473: ConvergenceWarning: lbfgs failed to converge after 100 iteration(s) (status=1):\n",
      "STOP: TOTAL NO. OF ITERATIONS REACHED LIMIT\n",
      "\n",
      "Increase the number of iterations to improve the convergence (max_iter=100).\n",
      "You might also want to scale the data as shown in:\n",
      "    https://scikit-learn.org/stable/modules/preprocessing.html\n",
      "Please also refer to the documentation for alternative solver options:\n",
      "    https://scikit-learn.org/stable/modules/linear_model.html#logistic-regression\n",
      "  n_iter_i = _check_optimize_result(\n",
      "/tmp/ipykernel_7939/868822057.py:3: FutureWarning: The behavior of DataFrame concatenation with empty or all-NA entries is deprecated. In a future version, this will no longer exclude empty or all-NA columns when determining the result dtypes. To retain the old behavior, exclude the relevant entries before the concat operation.\n",
      "  results_df = pd.concat([results_df, pd.DataFrame([results_dict])], ignore_index=True)\n"
     ]
    },
    {
     "name": "stdout",
     "output_type": "stream",
     "text": [
      "Training: RandomForestClassifier\n",
      "Training: SVC\n",
      "Training: GaussianNB\n",
      "Training: DecisionTreeClassifier\n",
      "Training: GaussianNB\n",
      "Training: KNeighborsClassifier\n"
     ]
    }
   ],
   "source": [
    "for model in models:\n",
    "    _, _, results_dict = classification_model(model, X_train, X_test, y_train)\n",
    "    results_df = pd.concat([results_df, pd.DataFrame([results_dict])], ignore_index=True)"
   ]
  },
  {
   "cell_type": "markdown",
   "id": "a1b82935-e79e-4738-b4ca-e79964834d79",
   "metadata": {},
   "source": [
    "View the results."
   ]
  },
  {
   "cell_type": "code",
   "execution_count": 413,
   "id": "9fbe1d4b-919b-46ab-bd63-290d93aa0f7a",
   "metadata": {},
   "outputs": [
    {
     "data": {
      "text/html": [
       "<div>\n",
       "<style scoped>\n",
       "    .dataframe tbody tr th:only-of-type {\n",
       "        vertical-align: middle;\n",
       "    }\n",
       "\n",
       "    .dataframe tbody tr th {\n",
       "        vertical-align: top;\n",
       "    }\n",
       "\n",
       "    .dataframe thead th {\n",
       "        text-align: right;\n",
       "    }\n",
       "</style>\n",
       "<table border=\"1\" class=\"dataframe\">\n",
       "  <thead>\n",
       "    <tr style=\"text-align: right;\">\n",
       "      <th></th>\n",
       "      <th>Model_Name</th>\n",
       "      <th>Train_Accuracy</th>\n",
       "      <th>Precision</th>\n",
       "      <th>Recall</th>\n",
       "      <th>F1_Score</th>\n",
       "      <th>CV_Mean</th>\n",
       "      <th>CV_Std</th>\n",
       "    </tr>\n",
       "  </thead>\n",
       "  <tbody>\n",
       "    <tr>\n",
       "      <th>4</th>\n",
       "      <td>DecisionTreeClassifier</td>\n",
       "      <td>0.985410</td>\n",
       "      <td>0.985637</td>\n",
       "      <td>0.985410</td>\n",
       "      <td>0.985363</td>\n",
       "      <td>0.782261</td>\n",
       "      <td>0.026491</td>\n",
       "    </tr>\n",
       "    <tr>\n",
       "      <th>1</th>\n",
       "      <td>RandomForestClassifier</td>\n",
       "      <td>0.984287</td>\n",
       "      <td>0.984461</td>\n",
       "      <td>0.984287</td>\n",
       "      <td>0.984242</td>\n",
       "      <td>0.821555</td>\n",
       "      <td>0.037969</td>\n",
       "    </tr>\n",
       "    <tr>\n",
       "      <th>0</th>\n",
       "      <td>LogisticRegression</td>\n",
       "      <td>0.803591</td>\n",
       "      <td>0.801733</td>\n",
       "      <td>0.803591</td>\n",
       "      <td>0.801022</td>\n",
       "      <td>0.792361</td>\n",
       "      <td>0.015576</td>\n",
       "    </tr>\n",
       "    <tr>\n",
       "      <th>3</th>\n",
       "      <td>GaussianNB</td>\n",
       "      <td>0.763187</td>\n",
       "      <td>0.759982</td>\n",
       "      <td>0.763187</td>\n",
       "      <td>0.759707</td>\n",
       "      <td>0.753148</td>\n",
       "      <td>0.040825</td>\n",
       "    </tr>\n",
       "    <tr>\n",
       "      <th>5</th>\n",
       "      <td>GaussianNB</td>\n",
       "      <td>0.763187</td>\n",
       "      <td>0.759982</td>\n",
       "      <td>0.763187</td>\n",
       "      <td>0.759707</td>\n",
       "      <td>0.753148</td>\n",
       "      <td>0.040825</td>\n",
       "    </tr>\n",
       "    <tr>\n",
       "      <th>6</th>\n",
       "      <td>KNeighborsClassifier</td>\n",
       "      <td>0.727273</td>\n",
       "      <td>0.722907</td>\n",
       "      <td>0.727273</td>\n",
       "      <td>0.723486</td>\n",
       "      <td>0.707168</td>\n",
       "      <td>0.054867</td>\n",
       "    </tr>\n",
       "    <tr>\n",
       "      <th>2</th>\n",
       "      <td>SVC</td>\n",
       "      <td>0.708193</td>\n",
       "      <td>0.703742</td>\n",
       "      <td>0.708193</td>\n",
       "      <td>0.691933</td>\n",
       "      <td>0.691476</td>\n",
       "      <td>0.055069</td>\n",
       "    </tr>\n",
       "  </tbody>\n",
       "</table>\n",
       "</div>"
      ],
      "text/plain": [
       "               Model_Name  Train_Accuracy  Precision    Recall  F1_Score  \\\n",
       "4  DecisionTreeClassifier        0.985410   0.985637  0.985410  0.985363   \n",
       "1  RandomForestClassifier        0.984287   0.984461  0.984287  0.984242   \n",
       "0      LogisticRegression        0.803591   0.801733  0.803591  0.801022   \n",
       "3              GaussianNB        0.763187   0.759982  0.763187  0.759707   \n",
       "5              GaussianNB        0.763187   0.759982  0.763187  0.759707   \n",
       "6    KNeighborsClassifier        0.727273   0.722907  0.727273  0.723486   \n",
       "2                     SVC        0.708193   0.703742  0.708193  0.691933   \n",
       "\n",
       "    CV_Mean    CV_Std  \n",
       "4  0.782261  0.026491  \n",
       "1  0.821555  0.037969  \n",
       "0  0.792361  0.015576  \n",
       "3  0.753148  0.040825  \n",
       "5  0.753148  0.040825  \n",
       "6  0.707168  0.054867  \n",
       "2  0.691476  0.055069  "
      ]
     },
     "execution_count": 413,
     "metadata": {},
     "output_type": "execute_result"
    }
   ],
   "source": [
    "results_df.sort_values('Train_Accuracy', ascending=False)"
   ]
  },
  {
   "cell_type": "markdown",
   "id": "9687ca94-d9c8-43eb-a567-5c526a3d9556",
   "metadata": {},
   "source": [
    "The random forest classifier is the best model. Let's fit it again and write the predictions for submission."
   ]
  },
  {
   "cell_type": "code",
   "execution_count": 414,
   "id": "ef1d0bd0-e2ff-4f3a-b4cc-8347a8e8eda5",
   "metadata": {},
   "outputs": [
    {
     "name": "stdout",
     "output_type": "stream",
     "text": [
      "Training: RandomForestClassifier\n"
     ]
    }
   ],
   "source": [
    "model = RandomForestClassifier(n_estimators=100)\n",
    "y_pred_test, y_pred_train, _ = classification_model(model, X_train, X_test, y_train)\n",
    "write_output(\"output/rfc.csv\", idx, y_pred_test)"
   ]
  },
  {
   "cell_type": "markdown",
   "id": "5ede5791-f3b5-4dbb-bc11-bc43bdd4ef63",
   "metadata": {},
   "source": [
    "Let's look at the confusion matrix and classification report."
   ]
  },
  {
   "cell_type": "code",
   "execution_count": 415,
   "id": "16e52c3b-144c-4655-b939-946368c75a93",
   "metadata": {},
   "outputs": [
    {
     "name": "stdout",
     "output_type": "stream",
     "text": [
      "              precision    recall  f1-score   support\n",
      "\n",
      "           0       0.99      0.99      0.99       549\n",
      "           1       0.99      0.98      0.98       342\n",
      "\n",
      "    accuracy                           0.99       891\n",
      "   macro avg       0.99      0.98      0.98       891\n",
      "weighted avg       0.99      0.99      0.99       891\n",
      "\n"
     ]
    },
    {
     "data": {
      "text/plain": [
       "<sklearn.metrics._plot.confusion_matrix.ConfusionMatrixDisplay at 0x7f49bf942fd0>"
      ]
     },
     "execution_count": 415,
     "metadata": {},
     "output_type": "execute_result"
    },
    {
     "data": {
      "image/png": "[encoded data removed]",
      "text/plain": [
       "<Figure size 640x480 with 2 Axes>"
      ]
     },
     "metadata": {},
     "output_type": "display_data"
    }
   ],
   "source": [
    "print(metrics.classification_report(y_train, y_pred_train))\n",
    "\n",
    "ConfusionMatrixDisplay.from_predictions(y_train, y_pred_train)"
   ]
  },
  {
   "cell_type": "markdown",
   "id": "a73ad4fb-75c5-442d-991c-6b49d51e9d3c",
   "metadata": {},
   "source": [
    "### Feature selection\n",
    "Let's select the 3 most important features by creating a series with feature importances for the random forest classifier."
   ]
  },
  {
   "cell_type": "code",
   "execution_count": 420,
   "id": "cdbe6316-4663-4783-b4fb-f658cab054a9",
   "metadata": {},
   "outputs": [
    {
     "data": {
      "text/plain": [
       "Sex                0.157229\n",
       "Age*Class          0.140403\n",
       "Title              0.136837\n",
       "Fare_Per_Person    0.129760\n",
       "Fare               0.128546\n",
       "Age                0.111548\n",
       "Pclass             0.049832\n",
       "Deck               0.044834\n",
       "Family_Size        0.040306\n",
       "SibSp              0.025266\n",
       "Embarked           0.023109\n",
       "Parch              0.012329\n",
       "dtype: float64"
      ]
     },
     "execution_count": 420,
     "metadata": {},
     "output_type": "execute_result"
    }
   ],
   "source": [
    "pd.Series(model.feature_importances_, index=X_train.columns).sort_values(ascending=False)"
   ]
  },
  {
   "cell_type": "code",
   "execution_count": 421,
   "id": "1908b390-c2ac-4583-b6ca-870fdc389940",
   "metadata": {},
   "outputs": [
    {
     "name": "stdout",
     "output_type": "stream",
     "text": [
      "Training: RandomForestClassifier\n"
     ]
    }
   ],
   "source": [
    "# These are the 3 best features for the random forest classifier.\n",
    "X_train_best_features = train_df[['Sex', 'Age*Class', 'Title']]\n",
    "X_test_best_features = test_df[['Sex', 'Age*Class', 'Title']]\n",
    "\n",
    "# Fit the model with only the 3 features\n",
    "y_pred_test, y_pred_train, _ = classification_model(model, X_train_best_features, X_test_best_features, y_train)\n",
    "write_output(\"output/rfc2.csv\", idx, y_pred_test)"
   ]
  },
  {
   "cell_type": "code",
   "execution_count": 422,
   "id": "ce2dd292-3f73-4459-801b-e14aa0cae844",
   "metadata": {},
   "outputs": [
    {
     "name": "stdout",
     "output_type": "stream",
     "text": [
      "              precision    recall  f1-score   support\n",
      "\n",
      "           0       0.86      0.91      0.89       549\n",
      "           1       0.85      0.77      0.81       342\n",
      "\n",
      "    accuracy                           0.86       891\n",
      "   macro avg       0.85      0.84      0.85       891\n",
      "weighted avg       0.86      0.86      0.86       891\n",
      "\n"
     ]
    },
    {
     "data": {
      "text/plain": [
       "<sklearn.metrics._plot.confusion_matrix.ConfusionMatrixDisplay at 0x7f49c12403d0>"
      ]
     },
     "execution_count": 422,
     "metadata": {},
     "output_type": "execute_result"
    },
    {
     "data": {
      "image/png": "[encoded data removed]",
      "text/plain": [
       "<Figure size 640x480 with 2 Axes>"
      ]
     },
     "metadata": {},
     "output_type": "display_data"
    }
   ],
   "source": [
    "print(metrics.classification_report(y_train, y_pred_train))\n",
    "\n",
    "ConfusionMatrixDisplay.from_predictions(y_train, y_pred_train)"
   ]
  },
  {
   "cell_type": "markdown",
   "id": "4e4bf413-5587-4a90-8e48-3963a4444b99",
   "metadata": {},
   "source": [
    "The feature selection didn't improve the model."
   ]
  }
 ],
 "metadata": {
  "kernelspec": {
   "display_name": "Python 3 (ipykernel)",
   "language": "python",
   "name": "python3"
  },
  "language_info": {
   "codemirror_mode": {
    "name": "ipython",
    "version": 3
   },
   "file_extension": ".py",
   "mimetype": "text/x-python",
   "name": "python",
   "nbconvert_exporter": "python",
   "pygments_lexer": "ipython3",
   "version": "3.13.5"
  }
 },
 "nbformat": 4,
 "nbformat_minor": 5
}
